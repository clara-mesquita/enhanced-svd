{
 "cells": [
  {
   "cell_type": "code",
   "execution_count": null,
   "id": "abb09f06",
   "metadata": {},
   "outputs": [],
   "source": [
    "import numpy as np\n",
    "import pandas as pd\n",
    "import os"
   ]
  },
  {
   "cell_type": "code",
   "execution_count": null,
   "id": "279b8340",
   "metadata": {},
   "outputs": [],
   "source": [
    "BASE_DIR = \"./test-data/\" "
   ]
  },
  {
   "cell_type": "code",
   "execution_count": null,
   "id": "43e32907",
   "metadata": {},
   "outputs": [],
   "source": [
    "def introduce_missing_data(df, missing_rate, seed=42):\n",
    "    rng = np.random.default_rng(seed)\n",
    "    df_missing = df.copy()\n",
    "    mask = rng.random(len(df_missing)) < missing_rate\n",
    "    df_missing.loc[mask, \"throughput_bps\"] = np.nan\n",
    "    print(f\"Introduced {missing_rate * 100}% missing data.\")\n",
    "    # print(f\"Mask: {mask}\")\n",
    "    return df_missing\n",
    "\n",
    "datasets_missing = {}\n",
    "\n",
    "for file in os.listdir(BASE_DIR):\n",
    "    if file.endswith(\".csv\"):\n",
    "        df = pd.read_csv(os.path.join(BASE_DIR, file))\n",
    "        base_key = file.removesuffix(\".throughput.csv\")  \n",
    "        datasets_missing[base_key] = {} \n",
    "        \n",
    "        for rate in [0.1, 0.2, 0.3, 0.4]:\n",
    "            df_missing = introduce_missing_data(df, missing_rate=rate, seed=42)\n",
    "            rate_key = f\"{int(rate * 100)}\"\n",
    "            datasets_missing[base_key][rate_key] = df_missing\n",
    "\n",
    "datasets_missing  # DataFrame com 10% de dados faltantes"
   ]
  },
  {
   "cell_type": "code",
   "execution_count": null,
   "id": "aff0a8e2",
   "metadata": {},
   "outputs": [],
   "source": [
    "import numpy as np\n",
    "import pandas as pd\n",
    "from sklearn.metrics import mean_squared_error, mean_absolute_error, r2_score"
   ]
  },
  {
   "cell_type": "code",
   "execution_count": null,
   "id": "b52129a0",
   "metadata": {},
   "outputs": [],
   "source": [
    "results = []"
   ]
  },
  {
   "cell_type": "code",
   "execution_count": null,
   "id": "3b7a4863",
   "metadata": {},
   "outputs": [],
   "source": [
    "def evaluate_imputation(mask_missing, df, df_imputed, method):\n",
    "    # real and imputed values where theres missing\n",
    "    y_true = df.loc[mask_missing, \"throughput_bps\"].values\n",
    "    y_pred = df_imputed.loc[mask_missing, \"throughput_bps\"].values\n",
    "    \n",
    "    if len(y_true) > 0: \n",
    "        rmse = np.sqrt(mean_squared_error(y_true, y_pred))\n",
    "        nrmse = rmse / (y_true.max() - y_true.min()) # range\n",
    "        nrmse_mean = rmse / y_true.mean() # mean\n",
    "        mae = mean_absolute_error(y_true, y_pred)\n",
    "        mape = np.mean(np.abs((y_true - y_pred) / y_true)) * 100\n",
    "        r2 = r2_score(y_true, y_pred)\n",
    "        \n",
    "        results.append({\n",
    "            \"file\": file,\n",
    "            \"rate\": rate,\n",
    "            \"method\": method,\n",
    "            \"rmse\": rmse,\n",
    "            \"nrmse\": nrmse, # range\n",
    "            # \"nrmse_mean\": nrmse_mean, # mean\n",
    "            # \"mae\": mae,\n",
    "            # \"mape\": mape,\n",
    "            # \"r2\": r2,\n",
    "        })\n",
    "\n",
    "        return results\n",
    "    \n",
    "for file, rates_dict in datasets_missing.items():\n",
    "    for rate, df_missing in rates_dict.items():\n",
    "        mask_missing = df_missing[\"throughput_bps\"].isna()\n",
    "        \n",
    "        # results = evaluate_imputation(mask_missing, df, df_kalman_arima, \"kalman arima (1,1,1)\")\n",
    "        \n",
    "        \n",
    "df_results = pd.DataFrame(results)\n",
    "df_results.head()\n",
    "df_results.to_csv(\"results.csv\", index=False)\n",
    "\n",
    "print(\"Resultados salvos em results.csv\")"
   ]
  }
 ],
 "metadata": {
  "language_info": {
   "name": "python"
  }
 },
 "nbformat": 4,
 "nbformat_minor": 5
}
