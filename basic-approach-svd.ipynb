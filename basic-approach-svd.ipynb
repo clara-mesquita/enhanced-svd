{
 "cells": [
  {
   "cell_type": "markdown",
   "id": "2ee435f4",
   "metadata": {},
   "source": [
    "This is the notebook for the approach were the SVD method used is basically Soft Impute and IterativeSVD with simple grid search on window"
   ]
  },
  {
   "cell_type": "code",
   "execution_count": null,
   "id": "28ee93ed",
   "metadata": {},
   "outputs": [],
   "source": [
    "import os\n",
    "import pandas as pd \n",
    "\n",
    "data_folder = '/test-data'\n",
    "throughput_dfs = {}\n",
    "\n",
    "for file in os.listdir('test-data'):\n",
    "    if file.endswith('.csv'):\n",
    "        current_df = \n"
   ]
  }
 ],
 "metadata": {
  "kernelspec": {
   "display_name": ".venv (3.13.7)",
   "language": "python",
   "name": "python3"
  },
  "language_info": {
   "name": "python",
   "version": "3.13.7"
  }
 },
 "nbformat": 4,
 "nbformat_minor": 5
}
